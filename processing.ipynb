{
 "cells": [
  {
   "cell_type": "code",
   "execution_count": 1,
   "id": "0988b7dd",
   "metadata": {},
   "outputs": [],
   "source": [
    "import geopandas as gpd\n",
    "import pandas as pd\n",
    "import requests"
   ]
  },
  {
   "cell_type": "code",
   "execution_count": 2,
   "id": "03f78124",
   "metadata": {},
   "outputs": [
    {
     "data": {
      "text/plain": [
       "474"
      ]
     },
     "execution_count": 2,
     "metadata": {},
     "output_type": "execute_result"
    }
   ],
   "source": [
    "# https://data.cityofnewyork.us/Education/2021-DOE-Middle-School-Directory/f6s7-vytj/about_data\n",
    "r = requests.get('https://data.cityofnewyork.us/resource/f6s7-vytj.json')\n",
    "school_directory = r.json()\n",
    "len(school_directory)"
   ]
  },
  {
   "cell_type": "code",
   "execution_count": 3,
   "id": "eaaaa33f",
   "metadata": {},
   "outputs": [
    {
     "data": {
      "text/html": [
       "<div>\n",
       "<style scoped>\n",
       "    .dataframe tbody tr th:only-of-type {\n",
       "        vertical-align: middle;\n",
       "    }\n",
       "\n",
       "    .dataframe tbody tr th {\n",
       "        vertical-align: top;\n",
       "    }\n",
       "\n",
       "    .dataframe thead th {\n",
       "        text-align: right;\n",
       "    }\n",
       "</style>\n",
       "<table border=\"1\" class=\"dataframe\">\n",
       "  <thead>\n",
       "    <tr style=\"text-align: right;\">\n",
       "      <th></th>\n",
       "      <th>District</th>\n",
       "      <th>Latitude</th>\n",
       "      <th>Longitude</th>\n",
       "      <th>geometry</th>\n",
       "    </tr>\n",
       "    <tr>\n",
       "      <th>DBN</th>\n",
       "      <th></th>\n",
       "      <th></th>\n",
       "      <th></th>\n",
       "      <th></th>\n",
       "    </tr>\n",
       "  </thead>\n",
       "  <tbody>\n",
       "    <tr>\n",
       "      <th>88X966</th>\n",
       "      <td>8</td>\n",
       "      <td>40.816494</td>\n",
       "      <td>-73.890278</td>\n",
       "      <td>POINT (-8225428.122 4985312.134)</td>\n",
       "    </tr>\n",
       "    <tr>\n",
       "      <th>88X994</th>\n",
       "      <td>12</td>\n",
       "      <td>40.829306</td>\n",
       "      <td>-73.892243</td>\n",
       "      <td>POINT (-8225646.864 4987196.846)</td>\n",
       "    </tr>\n",
       "    <tr>\n",
       "      <th>88X995</th>\n",
       "      <td>10</td>\n",
       "      <td>40.857248</td>\n",
       "      <td>-73.903165</td>\n",
       "      <td>POINT (-8226862.696 4991308.524)</td>\n",
       "    </tr>\n",
       "    <tr>\n",
       "      <th>88X996</th>\n",
       "      <td>8</td>\n",
       "      <td>40.821218</td>\n",
       "      <td>-73.855930</td>\n",
       "      <td>POINT (-8221604.520 4986007.017)</td>\n",
       "    </tr>\n",
       "    <tr>\n",
       "      <th>93M359</th>\n",
       "      <td>2</td>\n",
       "      <td>40.747398</td>\n",
       "      <td>-73.992832</td>\n",
       "      <td>POINT (-8236844.381 4975154.021)</td>\n",
       "    </tr>\n",
       "  </tbody>\n",
       "</table>\n",
       "</div>"
      ],
      "text/plain": [
       "        District   Latitude  Longitude                          geometry\n",
       "DBN                                                                     \n",
       "88X966         8  40.816494 -73.890278  POINT (-8225428.122 4985312.134)\n",
       "88X994        12  40.829306 -73.892243  POINT (-8225646.864 4987196.846)\n",
       "88X995        10  40.857248 -73.903165  POINT (-8226862.696 4991308.524)\n",
       "88X996         8  40.821218 -73.855930  POINT (-8221604.520 4986007.017)\n",
       "93M359         2  40.747398 -73.992832  POINT (-8236844.381 4975154.021)"
      ]
     },
     "execution_count": 3,
     "metadata": {},
     "output_type": "execute_result"
    }
   ],
   "source": [
    "# source: https://data.cityofnewyork.us/Education/School-Point-Locations/jfju-ynrr/about_data\n",
    "gdf = (\n",
    "    gpd.read_file('source_data/SchoolPoints_APS_2024_08_28/SchoolPoints_APS_2024_08_28.shp')\n",
    "    .rename(columns={'Geographic': 'District', 'ATS': 'DBN'})\n",
    "    .set_index('DBN')\n",
    "    .drop(columns=['Building_C', 'Location_C', 'Name'])\n",
    ")\n",
    "gdf.tail(5)"
   ]
  },
  {
   "cell_type": "code",
   "execution_count": 4,
   "id": "f06e0493",
   "metadata": {},
   "outputs": [],
   "source": [
    "# https://infohub.nyced.org/reports/students-and-schools/school-quality/school-quality-reports-and-resources\n",
    "excel_path = 'source_data/2022-23 NYC Schools Data.xlsx'\n",
    "def read_sheet(sheet_name):\n",
    "    return (\n",
    "        pd.read_excel(\n",
    "            excel_path,\n",
    "            sheet_name=sheet_name\n",
    "        ).melt(\n",
    "            id_vars='DBN',\n",
    "            var_name='Variable',\n",
    "            value_name='Value'\n",
    "        )\n",
    "    )"
   ]
  },
  {
   "cell_type": "code",
   "execution_count": 5,
   "id": "5c5d8de6",
   "metadata": {},
   "outputs": [],
   "source": [
    "norm_df = (\n",
    "    pd.concat([\n",
    "        read_sheet('Summary'),\n",
    "        read_sheet('Student Achievement'),\n",
    "        read_sheet('Framework'),\n",
    "        read_sheet('Additional Info')],\n",
    "        axis=0,\n",
    "        ignore_index=True\n",
    "    ).drop_duplicates()\n",
    ")"
   ]
  },
  {
   "cell_type": "code",
   "execution_count": 6,
   "id": "e3288e4d",
   "metadata": {},
   "outputs": [],
   "source": [
    "school_types = norm_df[norm_df.Variable=='School Type']['Value'].unique()\n",
    "for st in school_types:\n",
    "    schools = norm_df.loc[(norm_df.Variable=='School Type') & (norm_df.Value==st), 'DBN'].values\n",
    "    filt_df = (\n",
    "        norm_df[norm_df.DBN.isin(schools)]\n",
    "        .reset_index(drop=True)\n",
    "        .pivot(index='DBN', columns='Variable', values='Value')\n",
    "        .join(pd.DataFrame(school_directory).set_index('schooldbn'))\n",
    "        .join(gdf)\n",
    "        .reset_index()\n",
    "        .set_index(['DBN', 'School Name'])\n",
    "    )\n",
    "    filt_df.drop(columns='geometry').to_csv(f'{st}_Schools_Data.csv')"
   ]
  }
 ],
 "metadata": {
  "kernelspec": {
   "display_name": "Python 3 (ipykernel)",
   "language": "python",
   "name": "python3"
  },
  "language_info": {
   "codemirror_mode": {
    "name": "ipython",
    "version": 3
   },
   "file_extension": ".py",
   "mimetype": "text/x-python",
   "name": "python",
   "nbconvert_exporter": "python",
   "pygments_lexer": "ipython3",
   "version": "3.11.5"
  }
 },
 "nbformat": 4,
 "nbformat_minor": 5
}
